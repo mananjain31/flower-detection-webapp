{
 "cells": [
  {
   "cell_type": "markdown",
   "metadata": {},
   "source": [
    "# Imported Bing Image Downloader\n",
    "### For Testing"
   ]
  },
  {
   "cell_type": "code",
   "execution_count": null,
   "metadata": {},
   "outputs": [],
   "source": [
    "from bing_image_downloader import downloader\n",
    "\n",
    "# animals = ['cat', 'cow', 'dog', 'monkey', 'rabbit']\n",
    "animals = ['dog', 'monkey', 'rabbit']\n",
    "for item in animals:\n",
    "\n",
    "    name = item\n",
    "    downloader.download(name, limit=20,  output_dir='dataset/',\n",
    "                        adult_filter_off=True, force_replace=False, timeout=60)\n"
   ]
  },
  {
   "cell_type": "markdown",
   "metadata": {},
   "source": [
    "# Imported Google Image Downloader\n",
    "### Code for downloding more images"
   ]
  },
  {
   "cell_type": "code",
   "execution_count": 3,
   "metadata": {},
   "outputs": [],
   "source": [
    "# import os\n",
    "# from google_images_download import google_images_download\n",
    "# response = google_images_download.googleimagesdownload()"
   ]
  },
  {
   "cell_type": "code",
   "execution_count": 4,
   "metadata": {},
   "outputs": [],
   "source": [
    "# # name = \"Apple (Malus pumila 'Winter Pearmain')\"\n",
    "# directoryPath = \"downloads/\"\n",
    "# directoryList = os.listdir(directoryPath)\n",
    "# # print(directoryList)\n",
    "# for FlowerFolders in directoryList:\n",
    "#     FlowersImageList = os.listdir(\"downloads/\"+FlowerFolders)\n",
    "#     # print(FlowersImageList)\n",
    "#     if len(FlowersImageList) < 50:\n",
    "#         arguments = {\"keywords\": FlowerFolders,\"limit\": 50-len(FlowersImageList), \"print_urls\": False}\n",
    "#         try:\n",
    "#             paths = response.download(arguments)\n",
    "#         except:\n",
    "#             pass\n",
    "#         print(\"Completed For \" + FlowerFolders)\n",
    "#     else:\n",
    "#         print(\"Satisfied for : \" + FlowerFolders)\n"
   ]
  },
  {
   "cell_type": "markdown",
   "metadata": {},
   "source": [
    "# Main Operation\n",
    "### Code to view files"
   ]
  },
  {
   "cell_type": "code",
   "execution_count": 5,
   "metadata": {},
   "outputs": [],
   "source": [
    "import os"
   ]
  },
  {
   "cell_type": "code",
   "execution_count": null,
   "metadata": {},
   "outputs": [],
   "source": [
    "directoryPath = \"downloads/\"\n",
    "directoryList = os.listdir(directoryPath)\n",
    "foldCount = 1\n",
    "for FlowerFolders in directoryList:\n",
    "    FlowersImageList = os.listdir(\"downloads/\"+FlowerFolders)\n",
    "    # print(FlowersImageList)\n",
    "    count = 1\n",
    "    print('\\n\\n'+str(foldCount)+'\\t'+FlowerFolders+'\\n\\n')\n",
    "    for image in FlowersImageList:\n",
    "        print(count, end='\\t')\n",
    "        print(image)\n",
    "        count += 1\n",
    "    print('***************************************************************************************')\n",
    "    foldCount+=1"
   ]
  },
  {
   "cell_type": "markdown",
   "metadata": {},
   "source": [
    "### Code to rename all images as number"
   ]
  },
  {
   "cell_type": "code",
   "execution_count": 48,
   "metadata": {},
   "outputs": [
    {
     "name": "stdout",
     "output_type": "stream",
     "text": [
      "All Files Renamed\n"
     ]
    }
   ],
   "source": [
    "directoryPath = \"downloads/\"\n",
    "directoryList = os.listdir(directoryPath)\n",
    "for FlowerFolders in directoryList:\n",
    "    FlowersImageList = os.listdir(directoryPath+FlowerFolders)\n",
    "    count = 1\n",
    "    for flowerImages in FlowersImageList:\n",
    "        nameOfFile = flowerImages\n",
    "        imgExtention = nameOfFile[nameOfFile.rfind('.'):]\n",
    "        \n",
    "        source = directoryPath+FlowerFolders+\"/\"+flowerImages\n",
    "        destination = directoryPath+FlowerFolders+\"/\"+str(count)+imgExtention\n",
    "        os.rename(source, destination)\n",
    "        count += 1\n",
    "print('All Files Renamed')\n"
   ]
  },
  {
   "cell_type": "markdown",
   "metadata": {},
   "source": [
    "### Resize Dataset"
   ]
  },
  {
   "cell_type": "code",
   "execution_count": null,
   "metadata": {},
   "outputs": [],
   "source": [
    "from PIL import Image\n",
    "import os\n",
    "mainFolder = \"downloads/\"\n",
    "mainFolderList = os.listdir(mainFolder)\n",
    "foldCount = 1\n",
    "for ImgFolders in mainFolderList:\n",
    "    ImgFoldersList = os.listdir(mainFolder+ImgFolders)\n",
    "    # print('\\n\\n'+str(foldCount)+'\\t'+ImgFolders+'\\n\\n')\n",
    "    for image in ImgFoldersList:\n",
    "        imgPath = mainFolder+ImgFolders+\"/\"+image\n",
    "        try:\n",
    "            imgSize = Image.open(imgPath)\n",
    "            basewidth = 300\n",
    "            # print(imgSize.size)\n",
    "            if imgSize.size[0] > basewidth:\n",
    "                wpercent = (basewidth/float(imgSize.size[0]))\n",
    "                hsize = int((float(imgSize.size[1])*float(wpercent)))\n",
    "                imgSize = imgSize.resize(\n",
    "                    (basewidth, hsize), Image.Resampling.LANCZOS)\n",
    "                imgSize.save(imgPath)\n",
    "\n",
    "            elif imgSize.size[1] > basewidth:\n",
    "                hpercent = (basewidth/float(imgSize.size[1]))\n",
    "                wsize = int((float(imgSize.size[0])*float(hpercent)))\n",
    "                imgSize = imgSize.resize(\n",
    "                    (wsize, basewidth), Image.Resampling.LANCZOS)\n",
    "                imgSize.save(imgPath)\n",
    "\n",
    "        except Exception as E:\n",
    "            print('Error for :: ' + imgPath)\n",
    "    print(str(foldCount)+'    Success for :: '+ImgFolders)\n",
    "    foldCount+=1"
   ]
  }
 ],
 "metadata": {
  "kernelspec": {
   "display_name": "Python 3.9.7 64-bit",
   "language": "python",
   "name": "python3"
  },
  "language_info": {
   "codemirror_mode": {
    "name": "ipython",
    "version": 3
   },
   "file_extension": ".py",
   "mimetype": "text/x-python",
   "name": "python",
   "nbconvert_exporter": "python",
   "pygments_lexer": "ipython3",
   "version": "3.9.13"
  },
  "orig_nbformat": 4,
  "vscode": {
   "interpreter": {
    "hash": "ed06ce79c699b2a8635fb6ba08f3407056cfa8a68ae6f7430e3be2442f7c3982"
   }
  }
 },
 "nbformat": 4,
 "nbformat_minor": 2
}
